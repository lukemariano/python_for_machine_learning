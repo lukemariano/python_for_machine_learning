{
 "cells": [
  {
   "cell_type": "markdown",
   "id": "83b309a3-352f-473c-bc4b-6d673ded4e02",
   "metadata": {},
   "source": [
    "# **Sets**"
   ]
  },
  {
   "cell_type": "markdown",
   "id": "ad1232bb-9fb2-4754-8519-5c5c9efb8a16",
   "metadata": {},
   "source": [
    "São conjuntos como na matemática, são basicamente dicionários com valores que não se repetem."
   ]
  },
  {
   "cell_type": "code",
   "execution_count": 2,
   "id": "3e4d93e5-4588-45e0-8650-f59d83fb0546",
   "metadata": {},
   "outputs": [],
   "source": [
    "x = set()"
   ]
  },
  {
   "cell_type": "code",
   "execution_count": 3,
   "id": "618115af-cd7e-4c28-8839-ee4ca85b2b47",
   "metadata": {},
   "outputs": [
    {
     "data": {
      "text/plain": [
       "set()"
      ]
     },
     "execution_count": 3,
     "metadata": {},
     "output_type": "execute_result"
    }
   ],
   "source": [
    "x"
   ]
  },
  {
   "cell_type": "code",
   "execution_count": 8,
   "id": "e89b5a5f-d90e-4341-a37d-2300fbe49b16",
   "metadata": {},
   "outputs": [
    {
     "data": {
      "text/plain": [
       "{0, 1, 2}"
      ]
     },
     "execution_count": 8,
     "metadata": {},
     "output_type": "execute_result"
    }
   ],
   "source": [
    "x.add(0)\n",
    "x"
   ]
  },
  {
   "cell_type": "markdown",
   "id": "b9922f5e-29e0-4e45-8e15-c17cc3c2ebde",
   "metadata": {},
   "source": [
    "Adiciona os valores de forma ordenada."
   ]
  },
  {
   "cell_type": "markdown",
   "id": "a741b100-1a2c-4ed8-812c-d1986326594d",
   "metadata": {},
   "source": [
    "Também podemos trabalhar com sets a partir de listas como por exemplo:"
   ]
  },
  {
   "cell_type": "code",
   "execution_count": 9,
   "id": "d4978321-8971-4947-b80f-52227ddbd69b",
   "metadata": {},
   "outputs": [],
   "source": [
    "list1 = [1,2,3,4,5,6,7,7,7,7,8,8,8]"
   ]
  },
  {
   "cell_type": "code",
   "execution_count": 11,
   "id": "9a319407-3675-4c80-9d1f-42d58e77964b",
   "metadata": {},
   "outputs": [],
   "source": [
    "conjunto1 = set(list1)"
   ]
  },
  {
   "cell_type": "markdown",
   "id": "691bcf5d-2588-4868-af50-d7d842bf7be8",
   "metadata": {},
   "source": [
    "Possuimos muitos métodos utéis no nosso objeto 'set' como por exemplo:"
   ]
  },
  {
   "cell_type": "code",
   "execution_count": 12,
   "id": "cd70a11f-ef68-431c-a0d7-140823bcfffa",
   "metadata": {},
   "outputs": [
    {
     "data": {
      "text/plain": [
       "{0, 1, 2, 3, 4, 5, 6, 7, 8}"
      ]
     },
     "execution_count": 12,
     "metadata": {},
     "output_type": "execute_result"
    }
   ],
   "source": [
    "x.union(conjunto1)"
   ]
  },
  {
   "cell_type": "code",
   "execution_count": 13,
   "id": "ec1cd941-b7e5-46db-aa95-e1ca11b2a57a",
   "metadata": {},
   "outputs": [
    {
     "data": {
      "text/plain": [
       "{1, 2}"
      ]
     },
     "execution_count": 13,
     "metadata": {},
     "output_type": "execute_result"
    }
   ],
   "source": [
    "x.intersection(conjunto1)"
   ]
  },
  {
   "cell_type": "code",
   "execution_count": 14,
   "id": "901a25aa-49e1-4960-8e6e-ef9f8744f0bf",
   "metadata": {},
   "outputs": [
    {
     "data": {
      "text/plain": [
       "['__and__',\n",
       " '__class__',\n",
       " '__class_getitem__',\n",
       " '__contains__',\n",
       " '__delattr__',\n",
       " '__dir__',\n",
       " '__doc__',\n",
       " '__eq__',\n",
       " '__format__',\n",
       " '__ge__',\n",
       " '__getattribute__',\n",
       " '__gt__',\n",
       " '__hash__',\n",
       " '__iand__',\n",
       " '__init__',\n",
       " '__init_subclass__',\n",
       " '__ior__',\n",
       " '__isub__',\n",
       " '__iter__',\n",
       " '__ixor__',\n",
       " '__le__',\n",
       " '__len__',\n",
       " '__lt__',\n",
       " '__ne__',\n",
       " '__new__',\n",
       " '__or__',\n",
       " '__rand__',\n",
       " '__reduce__',\n",
       " '__reduce_ex__',\n",
       " '__repr__',\n",
       " '__ror__',\n",
       " '__rsub__',\n",
       " '__rxor__',\n",
       " '__setattr__',\n",
       " '__sizeof__',\n",
       " '__str__',\n",
       " '__sub__',\n",
       " '__subclasshook__',\n",
       " '__xor__',\n",
       " 'add',\n",
       " 'clear',\n",
       " 'copy',\n",
       " 'difference',\n",
       " 'difference_update',\n",
       " 'discard',\n",
       " 'intersection',\n",
       " 'intersection_update',\n",
       " 'isdisjoint',\n",
       " 'issubset',\n",
       " 'issuperset',\n",
       " 'pop',\n",
       " 'remove',\n",
       " 'symmetric_difference',\n",
       " 'symmetric_difference_update',\n",
       " 'union',\n",
       " 'update']"
      ]
     },
     "execution_count": 14,
     "metadata": {},
     "output_type": "execute_result"
    }
   ],
   "source": [
    "dir(x)"
   ]
  },
  {
   "cell_type": "markdown",
   "id": "9d0bda35-3b24-49ff-ae0a-5fd39318592d",
   "metadata": {},
   "source": [
    "Com o código acima podemos listar todos os métodos da nossa instância. Pode-se observar que possuimos muitos métodos matemáticos relativos a conjuntos para instâncias de uma classe 'set'"
   ]
  },
  {
   "cell_type": "code",
   "execution_count": null,
   "id": "b0f2fea8-be6a-47b4-b1a5-939dede8cb63",
   "metadata": {},
   "outputs": [],
   "source": []
  }
 ],
 "metadata": {
  "kernelspec": {
   "display_name": "Python 3 (ipykernel)",
   "language": "python",
   "name": "python3"
  },
  "language_info": {
   "codemirror_mode": {
    "name": "ipython",
    "version": 3
   },
   "file_extension": ".py",
   "mimetype": "text/x-python",
   "name": "python",
   "nbconvert_exporter": "python",
   "pygments_lexer": "ipython3",
   "version": "3.9.12"
  }
 },
 "nbformat": 4,
 "nbformat_minor": 5
}
