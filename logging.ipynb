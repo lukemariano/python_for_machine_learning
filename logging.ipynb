{
 "cells": [
  {
   "cell_type": "markdown",
   "id": "cf108d8a-d7b6-4778-9a0b-c82d3b3df09d",
   "metadata": {},
   "source": [
    "# **Logging**"
   ]
  },
  {
   "cell_type": "markdown",
   "id": "def30c2c-5720-4634-a55b-2c179466b393",
   "metadata": {},
   "source": [
    "Permite criar arquivos no formato txt que possui logs sobre nosso código de acordo com o que quisermos."
   ]
  },
  {
   "cell_type": "code",
   "execution_count": 1,
   "id": "fb37a0b6-4218-449a-9d86-14d910a641e4",
   "metadata": {},
   "outputs": [],
   "source": [
    "import logging"
   ]
  },
  {
   "cell_type": "code",
   "execution_count": 2,
   "id": "86a0dfac-1267-471c-92e6-ccb2ab7b748f",
   "metadata": {},
   "outputs": [],
   "source": [
    "LOG_FORMAT = \"%(levelname)s %(asctime)s - %(message)s\""
   ]
  },
  {
   "cell_type": "code",
   "execution_count": 3,
   "id": "d989b4c3-1e9a-4864-830b-d1360b3f62ca",
   "metadata": {},
   "outputs": [],
   "source": [
    "logging.basicConfig(\n",
    "    filename=\"app.log\", \n",
    "    level=logging.DEBUG,\n",
    "    format=LOG_FORMAT\n",
    ")"
   ]
  },
  {
   "cell_type": "code",
   "execution_count": 4,
   "id": "c8545f56-f37a-4eb6-b72d-059227b0a99e",
   "metadata": {},
   "outputs": [],
   "source": [
    "log = logging.getLogger()"
   ]
  },
  {
   "cell_type": "markdown",
   "id": "7943647a-6f86-4f1f-9dcd-76b601bd00d9",
   "metadata": {},
   "source": [
    "Só conseguimos gerar um log de um nível igual ou superior ao nível definido na configuração do nosso log."
   ]
  },
  {
   "cell_type": "code",
   "execution_count": 5,
   "id": "202a92c0-eab5-4064-b80f-f2309ea8a223",
   "metadata": {},
   "outputs": [],
   "source": [
    "log.info(\"olá\")"
   ]
  },
  {
   "cell_type": "code",
   "execution_count": 6,
   "id": "7eb94fa1-3156-4b74-9b6e-0d03bee2e10d",
   "metadata": {},
   "outputs": [
    {
     "data": {
      "text/plain": [
       "10"
      ]
     },
     "execution_count": 6,
     "metadata": {},
     "output_type": "execute_result"
    }
   ],
   "source": [
    "log.level"
   ]
  },
  {
   "cell_type": "code",
   "execution_count": null,
   "id": "3e9afb84-8738-445c-a41b-83bd3ea0baae",
   "metadata": {},
   "outputs": [],
   "source": []
  }
 ],
 "metadata": {
  "kernelspec": {
   "display_name": "Python 3 (ipykernel)",
   "language": "python",
   "name": "python3"
  },
  "language_info": {
   "codemirror_mode": {
    "name": "ipython",
    "version": 3
   },
   "file_extension": ".py",
   "mimetype": "text/x-python",
   "name": "python",
   "nbconvert_exporter": "python",
   "pygments_lexer": "ipython3",
   "version": "3.9.12"
  }
 },
 "nbformat": 4,
 "nbformat_minor": 5
}
