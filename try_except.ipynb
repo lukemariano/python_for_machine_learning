{
 "cells": [
  {
   "cell_type": "markdown",
   "id": "3663ddc7-b293-4ec6-9dc3-8263608c0c65",
   "metadata": {},
   "source": [
    "# **Try, except e finally**"
   ]
  },
  {
   "cell_type": "markdown",
   "id": "4de3d9ff-1816-45be-b09f-be7b9eb0a3ed",
   "metadata": {},
   "source": [
    "A finalidade de utilizar o try e except e proteger o nosso código e torná-lo menos sucetível a crash por conta de erros não esperados, principalmente em casos em que estamos recebendo inputs de um usuário."
   ]
  },
  {
   "cell_type": "code",
   "execution_count": 2,
   "id": "3786f7e9-5e90-46cf-be41-11a287d39fd1",
   "metadata": {},
   "outputs": [
    {
     "name": "stdout",
     "output_type": "stream",
     "text": [
      "Erro: can only concatenate list (not \"int\") to list\n",
      "Cheguei até aqui\n"
     ]
    }
   ],
   "source": [
    "x = [1,2,3]\n",
    "y = 1\n",
    "\n",
    "try:\n",
    "    x + y\n",
    "except Exception as e:\n",
    "    print(f\"Erro: {e}\")\n",
    "finally:\n",
    "    print(\"Cheguei até aqui\")"
   ]
  }
 ],
 "metadata": {
  "kernelspec": {
   "display_name": "Python 3 (ipykernel)",
   "language": "python",
   "name": "python3"
  },
  "language_info": {
   "codemirror_mode": {
    "name": "ipython",
    "version": 3
   },
   "file_extension": ".py",
   "mimetype": "text/x-python",
   "name": "python",
   "nbconvert_exporter": "python",
   "pygments_lexer": "ipython3",
   "version": "3.9.12"
  }
 },
 "nbformat": 4,
 "nbformat_minor": 5
}
